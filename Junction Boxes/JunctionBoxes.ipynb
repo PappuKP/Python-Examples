{
 "cells": [
  {
   "cell_type": "code",
   "execution_count": 21,
   "metadata": {},
   "outputs": [],
   "source": [
    "junction_strings = [\"ykc 82 01\",\"eo first qpx\",\n",
    "                    \"09z cat hamster\",\"06f 12 25 6\",\n",
    "                    \"az0 first qpx\",\"236 cat dog rabbit snake\"]"
   ]
  },
  {
   "cell_type": "code",
   "execution_count": 22,
   "metadata": {},
   "outputs": [],
   "source": [
    "new_strings = []\n",
    "old_strings = []"
   ]
  },
  {
   "cell_type": "code",
   "execution_count": 36,
   "metadata": {},
   "outputs": [
    {
     "name": "stdout",
     "output_type": "stream",
     "text": [
      "0\n",
      "1\n",
      "2\n",
      "3\n"
     ]
    }
   ],
   "source": [
    "array1 = [\"1\",\"2\",\"3\",\"4\"]\n",
    "array1[0:len(array1)]\n",
    "\n",
    "for index, ar in enumerate(array1):\n",
    "    print(index)"
   ]
  },
  {
   "cell_type": "code",
   "execution_count": 24,
   "metadata": {},
   "outputs": [],
   "source": [
    "for js in junction_strings: \n",
    "    if(js.split(\" \")[1][1].isdigit()):\n",
    "        new_strings.append(js)\n",
    "    else:\n",
    "        modify_string = ' '.join(js.split(\" \")[1:]) + \" \" + js.split(\" \")[0]\n",
    "        old_strings.append(modify_string)"
   ]
  },
  {
   "cell_type": "code",
   "execution_count": 28,
   "metadata": {},
   "outputs": [
    {
     "data": {
      "text/plain": [
       "['cat dog rabbit snake 236',\n",
       " 'cat hamster 09z',\n",
       " 'first qpx az0',\n",
       " 'first qpx eo']"
      ]
     },
     "execution_count": 28,
     "metadata": {},
     "output_type": "execute_result"
    }
   ],
   "source": [
    "old_strings.sort()"
   ]
  },
  {
   "cell_type": "code",
   "execution_count": 37,
   "metadata": {},
   "outputs": [],
   "source": [
    "for index, js in enumerate(old_strings): \n",
    "    ln = len(js.split(\" \"))\n",
    "    old_strings[index] = js.split(\" \")[ln-1] + \" \" + ' '.join(js.split(\" \")[0:ln-1])"
   ]
  },
  {
   "cell_type": "code",
   "execution_count": 38,
   "metadata": {},
   "outputs": [
    {
     "data": {
      "text/plain": [
       "['236 cat dog rabbit snake',\n",
       " '09z cat hamster',\n",
       " 'az0 first qpx',\n",
       " 'eo first qpx']"
      ]
     },
     "execution_count": 38,
     "metadata": {},
     "output_type": "execute_result"
    }
   ],
   "source": [
    "old_strings"
   ]
  },
  {
   "cell_type": "code",
   "execution_count": 39,
   "metadata": {},
   "outputs": [
    {
     "data": {
      "text/plain": [
       "['236 cat dog rabbit snake',\n",
       " '09z cat hamster',\n",
       " 'az0 first qpx',\n",
       " 'eo first qpx',\n",
       " 'ykc 82 01',\n",
       " '06f 12 25 6']"
      ]
     },
     "execution_count": 39,
     "metadata": {},
     "output_type": "execute_result"
    }
   ],
   "source": [
    "old_strings + new_strings"
   ]
  },
  {
   "cell_type": "code",
   "execution_count": null,
   "metadata": {},
   "outputs": [],
   "source": []
  }
 ],
 "metadata": {
  "kernelspec": {
   "display_name": "Python 3",
   "language": "python",
   "name": "python3"
  },
  "language_info": {
   "codemirror_mode": {
    "name": "ipython",
    "version": 3
   },
   "file_extension": ".py",
   "mimetype": "text/x-python",
   "name": "python",
   "nbconvert_exporter": "python",
   "pygments_lexer": "ipython3",
   "version": "3.7.3"
  }
 },
 "nbformat": 4,
 "nbformat_minor": 2
}
