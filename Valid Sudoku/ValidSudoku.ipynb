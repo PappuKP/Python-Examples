{
 "cells": [
  {
   "cell_type": "code",
   "execution_count": 113,
   "metadata": {},
   "outputs": [],
   "source": [
    "import numpy as np"
   ]
  },
  {
   "cell_type": "code",
   "execution_count": 115,
   "metadata": {},
   "outputs": [],
   "source": [
    "def extract3x3Box(inputMatrix, rI, cI):\n",
    "    npInput = np.array(input)\n",
    "    return npInput[rI-3:rI,cI-3:cI].tolist()\n"
   ]
  },
  {
   "cell_type": "code",
   "execution_count": 116,
   "metadata": {},
   "outputs": [],
   "source": [
    "def checkRows(inputMatrix):\n",
    "    \n",
    "    for row in inputMatrix:\n",
    "        row = [x for x in row if x != '.']\n",
    "        if len(row) != len(set(row)):\n",
    "            return False\n",
    "    \n",
    "    return True\n",
    "\n"
   ]
  },
  {
   "cell_type": "code",
   "execution_count": 117,
   "metadata": {},
   "outputs": [],
   "source": [
    "def checkColumns(inputMatrix):\n",
    "    \n",
    "    for index, row in enumerate(inputMatrix):\n",
    "        column = [row[index] for row in inputMatrix]\n",
    "        column = [x for x in column if x != '.']\n",
    "        if len(column) != len(set(column)):\n",
    "            return False\n",
    "    \n",
    "    return True"
   ]
  },
  {
   "cell_type": "code",
   "execution_count": 118,
   "metadata": {},
   "outputs": [],
   "source": [
    "def check3x3Box(inputMatrix):\n",
    "    \n",
    "    rowIndexes = [3,6,9]\n",
    "    columnIndexes = [3,6,9]\n",
    "    \n",
    "    for rI in rowIndexes: \n",
    "        for cI in columnIndexes:    \n",
    "            input3x3 = extract3x3Box(inputMatrix, rI, cI)\n",
    "            if len(set([x for x in input3x3[0] if x != '.']) & set([x for x in input3x3[1] if x != '.'])) or len(set([x for x in input3x3[2] if x != '.']) & set([x for x in input3x3[0] if x != '.'])) or len(set([x for x in input3x3[2] if x != '.']) & set([x for x in input3x3[1] if x != '.'])):\n",
    "                return False\n",
    "            \n",
    "    return True\n",
    "            \n",
    "    \n",
    "    "
   ]
  },
  {
   "cell_type": "code",
   "execution_count": 119,
   "metadata": {},
   "outputs": [],
   "source": [
    "def checkValidSudokuExists(inputMatrix):\n",
    "    if checkRows(input) and checkColumns(input) and check3x3Box(input):\n",
    "        return True\n",
    "    else: \n",
    "        return False"
   ]
  },
  {
   "cell_type": "code",
   "execution_count": 114,
   "metadata": {},
   "outputs": [],
   "source": [
    "input = [\n",
    "  [\"5\",\"3\",\".\",\".\",\"7\",\".\",\".\",\".\",\".\"],\n",
    "  [\"6\",\".\",\".\",\"1\",\"9\",\"5\",\".\",\".\",\".\"],\n",
    "  [\".\",\"9\",\"8\",\".\",\".\",\".\",\".\",\"6\",\".\"],\n",
    "  [\"8\",\".\",\".\",\".\",\"6\",\".\",\".\",\".\",\"3\"],\n",
    "  [\"4\",\".\",\".\",\"8\",\".\",\"3\",\".\",\".\",\"1\"],\n",
    "  [\"7\",\".\",\".\",\".\",\"2\",\".\",\".\",\".\",\"6\"],\n",
    "  [\".\",\"6\",\".\",\".\",\".\",\".\",\"2\",\"8\",\".\"],\n",
    "  [\".\",\".\",\".\",\"4\",\"1\",\"9\",\".\",\".\",\"5\"],\n",
    "  [\".\",\".\",\".\",\".\",\"8\",\".\",\".\",\"7\",\"9\"]\n",
    "]"
   ]
  },
  {
   "cell_type": "code",
   "execution_count": 120,
   "metadata": {},
   "outputs": [
    {
     "data": {
      "text/plain": [
       "True"
      ]
     },
     "execution_count": 120,
     "metadata": {},
     "output_type": "execute_result"
    }
   ],
   "source": [
    "checkValidSudokuExists(input)"
   ]
  },
  {
   "cell_type": "code",
   "execution_count": null,
   "metadata": {},
   "outputs": [],
   "source": []
  }
 ],
 "metadata": {
  "kernelspec": {
   "display_name": "Python 3",
   "language": "python",
   "name": "python3"
  },
  "language_info": {
   "codemirror_mode": {
    "name": "ipython",
    "version": 3
   },
   "file_extension": ".py",
   "mimetype": "text/x-python",
   "name": "python",
   "nbconvert_exporter": "python",
   "pygments_lexer": "ipython3",
   "version": "3.6.2"
  }
 },
 "nbformat": 4,
 "nbformat_minor": 2
}
