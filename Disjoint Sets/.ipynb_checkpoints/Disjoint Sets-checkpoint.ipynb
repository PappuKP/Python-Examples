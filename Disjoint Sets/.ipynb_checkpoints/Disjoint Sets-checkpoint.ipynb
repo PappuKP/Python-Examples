{
 "cells": [
  {
   "cell_type": "code",
   "execution_count": 174,
   "metadata": {},
   "outputs": [],
   "source": [
    "from collections import defaultdict"
   ]
  },
  {
   "cell_type": "code",
   "execution_count": 175,
   "metadata": {},
   "outputs": [],
   "source": [
    "# Converting string input to pairs of nodes and appending it toh the inputList\n",
    "\n",
    "def processInputStringToList(inputStr):\n",
    "    for node in inputStr: \n",
    "        newNode = list(map(int, node.split(\",\")))\n",
    "        inputList.append(newNode)"
   ]
  },
  {
   "cell_type": "code",
   "execution_count": 176,
   "metadata": {},
   "outputs": [],
   "source": [
    "inputString = [\"1,2\",\"3,4\",\"8,9\",\"9,10\",\"3,6\",\"6,11\"]\n",
    "inputList = []\n",
    "\n",
    "# Calling the function to process input\n",
    "processInputStringToList(inputString)"
   ]
  },
  {
   "cell_type": "code",
   "execution_count": 177,
   "metadata": {},
   "outputs": [],
   "source": [
    "# Creating a new dictionary for outputList\n",
    "outputList = defaultdict()\n",
    "\n",
    "# Appending the first element to group1\n",
    "outputList[\"group1\"] = []\n",
    "outputList[\"group1\"].append(inputList[0])\n",
    "\n",
    "# n represents the index of group\n",
    "n = 2"
   ]
  },
  {
   "cell_type": "code",
   "execution_count": 183,
   "metadata": {},
   "outputs": [],
   "source": [
    "# The function appends the node to already existing group (if found) else create a new group\n",
    "def compareToGroups(dictionary, node, number):\n",
    "    flag = True\n",
    "    for key, values in dictionary.items():\n",
    "        for value in values:\n",
    "            if len(set(node) & set(value)) and flag:\n",
    "                flag = False\n",
    "                dictionary[key].append(node)\n",
    "                \n",
    "#     flag remains true if no group found\n",
    "    if flag:\n",
    "        dictionary[\"group\"+str(number)] = []\n",
    "        dictionary[\"group\"+str(number)].append(node)\n",
    "        number = number + 1\n",
    "    return [dictionary, number]"
   ]
  },
  {
   "cell_type": "code",
   "execution_count": 179,
   "metadata": {},
   "outputs": [],
   "source": [
    "# Calling the compareToGroups function for each node\n",
    "for i in range(1,len(inputList)):\n",
    "    outputList, n = compareToGroups(outputList, inputList[i], n)"
   ]
  },
  {
   "cell_type": "code",
   "execution_count": 184,
   "metadata": {},
   "outputs": [],
   "source": [
    "# Merging the groups formed if similar element is found eg. 'group1': [[1, 2]] and 'group2': [[4,2]] into new group: [[1,2],[4,2]]\n",
    "for indexX in range(1,len(outputList)+1):\n",
    "    for indexY in range(indexX+1, len(outputList)+1):\n",
    "        if len(set(list(itertools.chain.from_iterable(outputList[\"group\"+str(indexX)]))) & set(list(itertools.chain.from_iterable(outputList[\"group\"+str(indexY)])))):\n",
    "            for value in outputList[\"group\"+str(indexY)]:  \n",
    "                outputList[\"group\"+str(indexX)].append(value)\n",
    "            outputList.pop(\"group\"+str(indexY), None)"
   ]
  },
  {
   "cell_type": "code",
   "execution_count": 185,
   "metadata": {},
   "outputs": [
    {
     "data": {
      "text/plain": [
       "defaultdict(None,\n",
       "            {'group1': [[1, 2]],\n",
       "             'group2': [[3, 4], [3, 6], [6, 11]],\n",
       "             'group3': [[8, 9], [9, 10]]})"
      ]
     },
     "execution_count": 185,
     "metadata": {},
     "output_type": "execute_result"
    }
   ],
   "source": [
    "outputList"
   ]
  },
  {
   "cell_type": "code",
   "execution_count": null,
   "metadata": {},
   "outputs": [],
   "source": []
  }
 ],
 "metadata": {
  "kernelspec": {
   "display_name": "Python 3",
   "language": "python",
   "name": "python3"
  },
  "language_info": {
   "codemirror_mode": {
    "name": "ipython",
    "version": 3
   },
   "file_extension": ".py",
   "mimetype": "text/x-python",
   "name": "python",
   "nbconvert_exporter": "python",
   "pygments_lexer": "ipython3",
   "version": "3.6.2"
  }
 },
 "nbformat": 4,
 "nbformat_minor": 2
}
